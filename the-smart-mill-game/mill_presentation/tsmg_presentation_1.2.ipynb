{
 "cells": [
  {
   "cell_type": "code",
   "execution_count": null,
   "metadata": {},
   "outputs": [],
   "source": [
    "# !pip install stable-baselines3\n",
    "# !pip install numpy\n",
    "# !pip install tensorflow==2.3.0\n",
    "# !pip install gym\n",
    "# !pip install keras\n",
    "# !pip install keras-rl2\n",
    "#\n",
    "# !pip install opencv-python\n",
    "# !pip install Pillow\n",
    "# !pip install Image\n",
    "# !pip install matplotlib"
   ]
  },
  {
   "cell_type": "code",
   "execution_count": 1,
   "metadata": {
    "pycharm": {
     "name": "#%%\n"
    }
   },
   "outputs": [],
   "source": [
    "import os\n",
    "import numpy as np\n",
    "import platform\n",
    "import warnings\n",
    "\n",
    "warnings.filterwarnings('ignore')"
   ]
  },
  {
   "cell_type": "code",
   "execution_count": 2,
   "metadata": {
    "pycharm": {
     "name": "#%%\n"
    }
   },
   "outputs": [],
   "source": [
    "def set_cur_dir():\n",
    "    system = platform.system()\n",
    "    if system == 'Windows':\n",
    "        cur_dir = globals()['_dh'][1]\n",
    "    else:\n",
    "        cur_dir = globals()['_dh'][0]\n",
    "    os.chdir(cur_dir)\n",
    "    os.chdir('..')"
   ]
  },
  {
   "cell_type": "code",
   "execution_count": 3,
   "metadata": {
    "pycharm": {
     "name": "#%%\n"
    }
   },
   "outputs": [],
   "source": [
    "set_cur_dir()\n",
    "from mill_presentation.src.PlayController import Controller\n",
    "from mill_evaluation.src.camera_input import CameraInput\n",
    "from mill_evaluation.src.mill_evaluation import MillEvaluation\n",
    "from mill_evaluation.src.observation_space import ObservationSpace"
   ]
  },
  {
   "cell_type": "markdown",
   "metadata": {},
   "source": [
    "## Camera Input and Mill Evaluation"
   ]
  },
  {
   "cell_type": "code",
   "execution_count": 4,
   "metadata": {
    "pycharm": {
     "name": "#%%\n"
    }
   },
   "outputs": [
    {
     "name": "stdout",
     "output_type": "stream",
     "text": [
      "Changed waitThread to realtime priority!\n",
      "Asked for all format descriptions...\n",
      "Asked for all format descriptions...\n",
      "[setting] Setting kCMIODevicePropertyDeviceMaster to 98019\n",
      "[setting] Setting kCMIOStreamPropertyFormatDescription\n",
      "Got new format : 1920x1080\n",
      "Asked for all format descriptions...\n",
      "[setting] Setting kCMIODevicePropertyDeviceMaster to -1\n",
      "[setting] Setting kCMIODevicePropertyDeviceMaster to 98019\n",
      "[setting] Setting kCMIODevicePropertyDeviceMaster to -1\n",
      "Asked for all format descriptions...\n",
      "[RemoteFrameSource] Releasing RemoteFrameSource\n"
     ]
    }
   ],
   "source": [
    "debug = False\n",
    "has_cam_input = True\n",
    "\n",
    "if has_cam_input:\n",
    "    cam_input = CameraInput()\n",
    "mill_eval = MillEvaluation(debug)\n",
    "obs_space = ObservationSpace(debug)"
   ]
  },
  {
   "cell_type": "code",
   "execution_count": null,
   "metadata": {
    "pycharm": {
     "name": "#%%\n"
    }
   },
   "outputs": [],
   "source": [
    "player = 0\n",
    "phase = 0\n",
    "if has_cam_input:\n",
    "    observation_space = cam_input.open_camera(mill_eval, obs_space)\n",
    "else:\n",
    "    observation_space = obs_space.generate_observation_space('mill_00062')\n",
    "observation_space.append(player)\n",
    "observation_space.append(phase)\n",
    "print(observation_space)"
   ]
  },
  {
   "cell_type": "markdown",
   "metadata": {},
   "source": [
    "## Mill Prediction"
   ]
  },
  {
   "cell_type": "code",
   "execution_count": 6,
   "metadata": {
    "pycharm": {
     "name": "#%%\n"
    }
   },
   "outputs": [],
   "source": [
    "set_cur_dir()\n",
    "dqn_weights = './mill_presentation/model/dqn/dqn_5_624/dqn_weights_5_624.h5f'\n",
    "dqn_model_path = './mill_presentation/model/dqn/dqn_5_624/model_dqn_5_624.h5'\n",
    "ppo_path = './mill_presentation/model/sb/ppo_model.zip'\n",
    "agent_controller = Controller(dqn_weights, dqn_model_path=dqn_model_path, ppo_path=ppo_path)"
   ]
  },
  {
   "cell_type": "code",
   "execution_count": null,
   "metadata": {
    "pycharm": {
     "name": "#%%\n"
    }
   },
   "outputs": [],
   "source": [
    "agent_controller.validate_predictions_ppo(np.array(observation_space))"
   ]
  },
  {
   "cell_type": "code",
   "execution_count": null,
   "metadata": {
    "pycharm": {
     "name": "#%%\n"
    }
   },
   "outputs": [],
   "source": [
    "agent_controller.validate_predictions_dqn(np.array(observation_space))\n"
   ]
  },
  {
   "cell_type": "markdown",
   "metadata": {},
   "source": [
    "## Overall"
   ]
  },
  {
   "cell_type": "code",
   "execution_count": 7,
   "metadata": {},
   "outputs": [
    {
     "name": "stdout",
     "output_type": "stream",
     "text": [
      "File mill_00076.jpg written\n",
      "File mill_00076.jpg processed\n",
      "WARNING:tensorflow:From /Users/andreas/Projekte/ks/the-smart-mill-game/venv/lib/python3.7/site-packages/tensorflow/python/keras/engine/training_v1.py:2070: Model.state_updates (from tensorflow.python.keras.engine.training) is deprecated and will be removed in a future version.\n",
      "Instructions for updating:\n",
      "This property should not be used in TensorFlow 2.0, as updates are applied automatically.\n",
      "1 0.99997616\n",
      "[1, 1, 1, 1, 1, 1, 1, 1, 1, 2, 2, 2, 2, 2, 2, 0, 0, 0, 0, 0, 0, 0, 0, 0, 0, 0]\n",
      "invalid Move\n",
      "\n",
      "B------B------B\n",
      "| B----B----B | \n",
      "| | B--B--B | | \n",
      "| | |     | | | \n",
      "O-O-O\t  O-O-O\n",
      "| | |     | | | \n",
      "| | W--W--W | | \n",
      "| W----W----W | \n",
      "W------W------O\n",
      "(24, 5)\n"
     ]
    }
   ],
   "source": [
    "player = 0\n",
    "phase = 0\n",
    "if has_cam_input:\n",
    "    observation_space = cam_input.open_camera(mill_eval, obs_space)\n",
    "else:\n",
    "    observation_space = obs_space.generate_observation_space('mill_00062')\n",
    "observation_space.append(player)\n",
    "observation_space.append(phase)\n",
    "print(observation_space)\n",
    "\n",
    "agent_controller.validate_predictions_ppo(np.array(observation_space))"
   ]
  },
  {
   "cell_type": "code",
   "execution_count": null,
   "metadata": {},
   "outputs": [],
   "source": []
  },
  {
   "cell_type": "code",
   "execution_count": null,
   "metadata": {},
   "outputs": [],
   "source": []
  }
 ],
 "metadata": {
  "kernelspec": {
   "display_name": "Python 3 (ipykernel)",
   "language": "python",
   "name": "python3"
  },
  "language_info": {
   "codemirror_mode": {
    "name": "ipython",
    "version": 3
   },
   "file_extension": ".py",
   "mimetype": "text/x-python",
   "name": "python",
   "nbconvert_exporter": "python",
   "pygments_lexer": "ipython3",
   "version": "3.7.10"
  }
 },
 "nbformat": 4,
 "nbformat_minor": 1
}
