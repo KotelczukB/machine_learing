{
 "cells": [
  {
   "cell_type": "code",
   "execution_count": 1,
   "metadata": {},
   "outputs": [
    {
     "name": "stdout",
     "output_type": "stream",
     "text": [
      "Requirement already satisfied: opencv-python in /home/andreas/.local/lib/python3.8/site-packages (4.5.2.54)\n",
      "Requirement already satisfied: Pillow in /home/andreas/.local/lib/python3.8/site-packages (8.2.0)\n",
      "Requirement already satisfied: Image in /home/andreas/.local/lib/python3.8/site-packages (1.5.33)\n",
      "Requirement already satisfied: matplotlib in /home/andreas/.local/lib/python3.8/site-packages (3.4.2)\n",
      "Requirement already satisfied: numpy>=1.17.3 in /home/andreas/.local/lib/python3.8/site-packages (from opencv-python) (1.19.5)\n",
      "Requirement already satisfied: django in /home/andreas/.local/lib/python3.8/site-packages (from Image) (3.2.4)\n",
      "Requirement already satisfied: six in /home/andreas/.local/lib/python3.8/site-packages (from Image) (1.15.0)\n",
      "Requirement already satisfied: kiwisolver>=1.0.1 in /home/andreas/.local/lib/python3.8/site-packages (from matplotlib) (1.3.1)\n",
      "Requirement already satisfied: python-dateutil>=2.7 in /home/andreas/.local/lib/python3.8/site-packages (from matplotlib) (2.8.1)\n",
      "Requirement already satisfied: cycler>=0.10 in /home/andreas/.local/lib/python3.8/site-packages (from matplotlib) (0.10.0)\n",
      "Requirement already satisfied: pyparsing>=2.2.1 in /home/andreas/.local/lib/python3.8/site-packages (from matplotlib) (2.4.7)\n",
      "Requirement already satisfied: sqlparse>=0.2.2 in /home/andreas/.local/lib/python3.8/site-packages (from django->Image) (0.4.1)\n",
      "Requirement already satisfied: pytz in /home/andreas/.local/lib/python3.8/site-packages (from django->Image) (2021.1)\n",
      "Requirement already satisfied: asgiref<4,>=3.3.2 in /home/andreas/.local/lib/python3.8/site-packages (from django->Image) (3.4.0)\n"
     ]
    },
    {
     "name": "stderr",
     "output_type": "stream",
     "text": [
      "2021-06-30 14:19:08.068171: I tensorflow/stream_executor/platform/default/dso_loader.cc:53] Successfully opened dynamic library libcudart.so.11.0\n"
     ]
    }
   ],
   "source": [
    "#hide\n",
    "!pip3 install opencv-python Pillow Image matplotlib\n",
    "import os\n",
    "os.chdir('..')\n",
    "from mill_evaluation.src.camera_input import CameraInput\n",
    "from mill_evaluation.src.mill_evaluation import MillEvaluation\n",
    "from mill_evaluation.src.observation_space import ObservationSpace"
   ]
  },
  {
   "cell_type": "markdown",
   "metadata": {},
   "source": [
    "## Camera Input and Mill Evaluation"
   ]
  },
  {
   "cell_type": "code",
   "execution_count": 2,
   "metadata": {},
   "outputs": [],
   "source": [
    "debug = False\n",
    "has_cam_input = False\n",
    "\n",
    "if has_cam_input:\n",
    "    cam_input = CameraInput()\n",
    "mill_eval = MillEvaluation(debug)\n",
    "obs_space = ObservationSpace(debug)"
   ]
  },
  {
   "cell_type": "code",
   "execution_count": 3,
   "metadata": {},
   "outputs": [
    {
     "name": "stderr",
     "output_type": "stream",
     "text": [
      "2021-06-30 14:19:13.885752: W tensorflow/stream_executor/platform/default/dso_loader.cc:64] Could not load dynamic library 'libcuda.so.1'; dlerror: libcuda.so.1: cannot open shared object file: No such file or directory\n",
      "2021-06-30 14:19:13.885816: W tensorflow/stream_executor/cuda/cuda_driver.cc:326] failed call to cuInit: UNKNOWN ERROR (303)\n",
      "2021-06-30 14:19:13.885847: I tensorflow/stream_executor/cuda/cuda_diagnostics.cc:156] kernel driver does not appear to be running on this host (PC-Andreas): /proc/driver/nvidia/version does not exist\n",
      "2021-06-30 14:19:13.886041: I tensorflow/core/platform/cpu_feature_guard.cc:142] This TensorFlow binary is optimized with oneAPI Deep Neural Network Library (oneDNN) to use the following CPU instructions in performance-critical operations:  AVX2 FMA\n",
      "To enable them in other operations, rebuild TensorFlow with the appropriate compiler flags.\n",
      "2021-06-30 14:19:15.389570: I tensorflow/compiler/mlir/mlir_graph_optimization_pass.cc:176] None of the MLIR Optimization Passes are enabled (registered 2)\n",
      "2021-06-30 14:19:15.390247: I tensorflow/core/platform/profile_utils/cpu_utils.cc:114] CPU Frequency: 3491915000 Hz\n"
     ]
    },
    {
     "name": "stdout",
     "output_type": "stream",
     "text": [
      "[1, 2, 2, 2, 0, 1, 0, 2, 2, 2, 0, 1, 2, 1, 2, 2, 0, 2, 2, 2, 0, 2, 1, 2, 0, 0]\n"
     ]
    }
   ],
   "source": [
    "player = 0\n",
    "phase = 0\n",
    "if has_cam_input:\n",
    "    observation_space = cam_input.open_camera(mill_eval, obs_space)\n",
    "else:   \n",
    "    observation_space = obs_space.generate_observation_space('mill_00055')\n",
    "observation_space.append(player)\n",
    "observation_space.append(phase)\n",
    "print(observation_space)"
   ]
  },
  {
   "cell_type": "code",
   "execution_count": null,
   "metadata": {},
   "outputs": [],
   "source": []
  }
 ],
 "metadata": {
  "interpreter": {
   "hash": "31f2aee4e71d21fbe5cf8b01ff0e069b9275f58929596ceb00d14d90e3e16cd6"
  },
  "kernelspec": {
   "display_name": "Python 3.8.5 64-bit",
   "name": "python3"
  },
  "language_info": {
   "codemirror_mode": {
    "name": "ipython",
    "version": 3
   },
   "file_extension": ".py",
   "mimetype": "text/x-python",
   "name": "python",
   "nbconvert_exporter": "python",
   "pygments_lexer": "ipython3",
   "version": "3.8.5"
  },
  "orig_nbformat": 4
 },
 "nbformat": 4,
 "nbformat_minor": 2
}