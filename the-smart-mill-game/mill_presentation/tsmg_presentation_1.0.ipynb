{
 "cells": [
  {
   "cell_type": "code",
   "execution_count": 1,
   "metadata": {},
   "outputs": [],
   "source": [
    "#!pip install stable-baselines3\r\n",
    "#!pip install numpy\r\n",
    "#!pip install tensorflow==2.3.0\r\n",
    "#!pip install gym\r\n",
    "#!pip install keras\r\n",
    "#!pip install keras-rl2\r\n",
    "\r\n",
    "#!pip3 install opencv-python Pillow Image matplotlib"
   ]
  },
  {
   "cell_type": "code",
   "execution_count": 2,
   "metadata": {},
   "outputs": [],
   "source": [
    "import numpy as np\r\n",
    "from src.PlayController import Controller"
   ]
  },
  {
   "cell_type": "code",
   "execution_count": 3,
   "metadata": {},
   "outputs": [],
   "source": [
    "#hide\r\n",
    "import os\r\n",
    "os.chdir('..')\r\n",
    "from mill_evaluation.src.camera_input import CameraInput\r\n",
    "from mill_evaluation.src.mill_evaluation import MillEvaluation\r\n",
    "from mill_evaluation.src.observation_space import ObservationSpace"
   ]
  },
  {
   "cell_type": "markdown",
   "metadata": {},
   "source": [
    "## Camera Input and Mill Evaluation"
   ]
  },
  {
   "cell_type": "code",
   "execution_count": 4,
   "metadata": {},
   "outputs": [],
   "source": [
    "debug = False\n",
    "has_cam_input = False\n",
    "\n",
    "if has_cam_input:\n",
    "    cam_input = CameraInput()\n",
    "mill_eval = MillEvaluation(debug)\n",
    "obs_space = ObservationSpace(debug)"
   ]
  },
  {
   "cell_type": "code",
   "execution_count": 5,
   "metadata": {},
   "outputs": [
    {
     "name": "stdout",
     "output_type": "stream",
     "text": [
      "WARNING:tensorflow:From C:\\Users\\kotel\\AppData\\Local\\Programs\\Python\\Python37\\lib\\site-packages\\tensorflow\\python\\keras\\engine\\training_v1.py:2070: Model.state_updates (from tensorflow.python.keras.engine.training) is deprecated and will be removed in a future version.\n",
      "Instructions for updating:\n",
      "This property should not be used in TensorFlow 2.0, as updates are applied automatically.\n",
      "[0, 2, 1, 2, 2, 2, 0, 2, 1, 2, 1, 0, 2, 0, 2, 1, 2, 2, 1, 2, 0, 2, 2, 2, 0, 0]\n"
     ]
    }
   ],
   "source": [
    "player = 0\r\n",
    "phase = 0\r\n",
    "if has_cam_input:\r\n",
    "    observation_space = cam_input.open_camera(mill_eval, obs_space)\r\n",
    "else:   \r\n",
    "    observation_space = obs_space.generate_observation_space('mill_00060')\r\n",
    "observation_space.append(player)\r\n",
    "observation_space.append(phase)\r\n"
   ]
  },
  {
   "cell_type": "code",
   "execution_count": 6,
   "metadata": {},
   "outputs": [],
   "source": [
    "cur_dir = globals()['_dh'][1]\r\n",
    "os.chdir(cur_dir)\r\n",
    "\r\n",
    "agent_controller = Controller(\"./model/dqn/dqn_5_624/dqn_weights_5_624.h5f\", dqn_model_path=\"./model/dqn/dqn_5_624/model_dqn_5_624.h5\", ppo_path=\"./model/sb/ppo_model.zip\")"
   ]
  },
  {
   "cell_type": "code",
   "execution_count": 9,
   "metadata": {},
   "outputs": [
    {
     "name": "stdout",
     "output_type": "stream",
     "text": [
      "propper Move\n",
      "\n",
      "W------O------O\n",
      "| O----O----O | \n",
      "| | O--O--O | | \n",
      "| | |     | | | \n",
      "\u001b[34mB\u001b[0m-O-O\t  O-O-O\n",
      "| | |     | | | \n",
      "| | O--O--O | | \n",
      "| O----O----O | \n",
      "O------O------O\n",
      "(24, 9)\n"
     ]
    }
   ],
   "source": [
    "# test obs = [2, 2, 2, 2, 2, 2, 2, 2, 2, 2, 2, 2, 2, 2, 2, 2, 2, 2, 2, 2, 2, 2, 2, 2, 1, 0]\r\n",
    "agent_controller.validate_predictions_ppo(np.array(observation_space))"
   ]
  },
  {
   "cell_type": "code",
   "execution_count": 10,
   "metadata": {},
   "outputs": [
    {
     "name": "stdout",
     "output_type": "stream",
     "text": [
      "propper Move\n",
      "\n",
      "W------O------O\n",
      "| O----O----O | \n",
      "| | O--O--O | | \n",
      "| | |     | | | \n",
      "O-O-O\t  \u001b[34mB\u001b[0m-O-O\n",
      "| | |     | | | \n",
      "| | O--O--O | | \n",
      "| O----O----O | \n",
      "O------O------O\n",
      "(24, 12)\n"
     ]
    }
   ],
   "source": [
    "agent_controller.validate_predictions_dqn(np.array(observation_space))"
   ]
  }
 ],
 "metadata": {
  "interpreter": {
   "hash": "8442f6ccc6f3e62483f82965cb95e8ac940d5a859ee503c448f2980695a39010"
  },
  "kernelspec": {
   "display_name": "Python 3.7.7 64-bit",
   "name": "python3"
  },
  "language_info": {
   "codemirror_mode": {
    "name": "ipython",
    "version": 3
   },
   "file_extension": ".py",
   "mimetype": "text/x-python",
   "name": "python",
   "nbconvert_exporter": "python",
   "pygments_lexer": "ipython3",
   "version": "3.7.7"
  },
  "orig_nbformat": 4
 },
 "nbformat": 4,
 "nbformat_minor": 2
}