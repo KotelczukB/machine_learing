{
 "cells": [
  {
   "cell_type": "code",
   "execution_count": 1,
   "metadata": {},
   "outputs": [
    {
     "output_type": "stream",
     "name": "stdout",
     "text": [
      "Requirement already satisfied: opencv-python in /usr/local/lib/python3.8/site-packages (4.5.2.54)\nRequirement already satisfied: numpy>=1.17.3 in /usr/local/lib/python3.8/site-packages (from opencv-python) (1.20.3)\n"
     ]
    }
   ],
   "source": [
    "#hide\n",
    "!pip3 install opencv-python\n",
    "from src.camera_input import CameraInput"
   ]
  },
  {
   "cell_type": "code",
   "execution_count": 12,
   "id": "44ee205a",
   "metadata": {},
   "outputs": [
    {
     "output_type": "stream",
     "name": "stdout",
     "text": [
      "Escape hit, closing...\n"
     ]
    }
   ],
   "source": [
    "ci = CameraInput()\n",
    "ci.open_camera()"
   ]
  }
 ],
 "metadata": {
  "kernelspec": {
   "name": "python3",
   "display_name": "Python 3.9.5 64-bit ('3.9.5': pyenv)"
  },
  "language_info": {
   "codemirror_mode": {
    "name": "ipython",
    "version": 3
   },
   "file_extension": ".py",
   "mimetype": "text/x-python",
   "name": "python",
   "nbconvert_exporter": "python",
   "pygments_lexer": "ipython3",
   "version": "3.9.5"
  },
  "interpreter": {
   "hash": "7b98755094338f588571af0dfffebd93e848354c8a6f6a4765c8a77bc61f0e0a"
  }
 },
 "nbformat": 4,
 "nbformat_minor": 5
}