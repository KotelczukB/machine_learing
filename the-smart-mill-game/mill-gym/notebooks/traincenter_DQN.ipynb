{
 "metadata": {
  "language_info": {
   "codemirror_mode": {
    "name": "ipython",
    "version": 3
   },
   "file_extension": ".py",
   "mimetype": "text/x-python",
   "name": "python",
   "nbconvert_exporter": "python",
   "pygments_lexer": "ipython3",
   "version": "3.7.7"
  },
  "orig_nbformat": 2,
  "kernelspec": {
   "name": "python3",
   "display_name": "Python 3.7.7 64-bit"
  },
  "metadata": {
   "interpreter": {
    "hash": "56061dea817da779deb7bacc851a3d00490516bb981607492b380ff7bba75706"
   }
  },
  "interpreter": {
   "hash": "8442f6ccc6f3e62483f82965cb95e8ac940d5a859ee503c448f2980695a39010"
  }
 },
 "nbformat": 4,
 "nbformat_minor": 2,
 "cells": [
  {
   "cell_type": "code",
   "execution_count": 1,
   "metadata": {},
   "outputs": [],
   "source": [
    "#!pip install stable-baselines3[extra]\n",
    "#!pip install numpy"
   ]
  },
  {
   "cell_type": "code",
   "execution_count": 4,
   "metadata": {},
   "outputs": [],
   "source": [
    "import numpy as np\n",
    "from src.env.MillEnv_Descrete import MillEnviroment\n",
    "from stable_baselines3 import DQN"
   ]
  },
  {
   "cell_type": "code",
   "execution_count": 5,
   "metadata": {},
   "outputs": [],
   "source": [
    "env = MillEnviroment()"
   ]
  },
  {
   "cell_type": "code",
   "execution_count": 6,
   "metadata": {},
   "outputs": [
    {
     "output_type": "stream",
     "name": "stdout",
     "text": [
      "Using cpu device\nWrapping the env with a `Monitor` wrapper\nWrapping the env in a DummyVecEnv.\n"
     ]
    }
   ],
   "source": [
    "model = DQN(\"MlpPolicy\", env, verbose=1, tensorboard_log=\"./nine_mens_mill_qdn_sb/\")"
   ]
  },
  {
   "cell_type": "code",
   "execution_count": 11,
   "metadata": {},
   "outputs": [
    {
     "output_type": "execute_result",
     "data": {
      "text/plain": [
       "0.99"
      ]
     },
     "metadata": {},
     "execution_count": 11
    }
   ],
   "source": [
    "model."
   ]
  },
  {
   "cell_type": "code",
   "execution_count": null,
   "metadata": {
    "tags": []
   },
   "outputs": [],
   "source": [
    "model = DQN(\"MlpPolicy\", env, verbose=1, tensorboard_log=\"./nine_mens_mill_qdn_sb/\")\n",
    "model.learn(total_timesteps=int(5.4e+6), log_interval=4)\n",
    "model.save(\"nine_mens_mill_dqn\")\n",
    "\n",
    "#del model # remove to demonstrate saving and loading\n",
    "\n",
    "#model = PPO.load(\"ppo2_cartpole\")\n",
    "print(\"____ AGENT LEARNED ___________\")\n",
    "# Enjoy trained agent\n",
    "#obs = env.reset()\n",
    "#while True:\n",
    "#    action, _states = model.predict(obs)\n",
    "#    obs, rewards, dones, info = env.step(action)\n",
    "#    env.render()"
   ]
  },
  {
   "cell_type": "code",
   "execution_count": null,
   "metadata": {},
   "outputs": [],
   "source": [
    "import numpy as np\n",
    "from src.env.MillEnv_Descrete import MillEnviroment\n",
    "from stable_baselines3 import DQN\n",
    "\n",
    "env = MillEnviroment()\n",
    "\n",
    "model = DQN(\"MlpPolicy\", env, verbose=1, tensorboard_log=\"./nine_mens_mill_qdn_sb/\")\n",
    "model.learn(total_timesteps=int(5.4e+6), log_interval=4)\n",
    "model.save(\"nine_mens_mill_dqn\")"
   ]
  }
 ]
}